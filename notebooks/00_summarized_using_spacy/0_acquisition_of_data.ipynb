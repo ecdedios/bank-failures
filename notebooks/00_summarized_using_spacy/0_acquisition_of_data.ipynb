{
 "cells": [
  {
   "cell_type": "code",
   "execution_count": null,
   "id": "f38191d0-dced-423a-958f-6b7dd58e2776",
   "metadata": {},
   "outputs": [],
   "source": [
    "from selenium import webdriver\n",
    "from selenium.webdriver.firefox.options import Options\n",
    "from selenium.webdriver.common.by import By\n",
    "from selenium.webdriver.support.ui import Select\n",
    "\n",
    "import requests\n",
    "from urllib.parse import urlsplit\n",
    "import os\n",
    "import PyPDF2\n",
    "import pandas as pd\n",
    "\n",
    "# to print out all the outputs\n",
    "from IPython.core.interactiveshell import InteractiveShell\n",
    "InteractiveShell.ast_node_interactivity = \"all\"\n",
    "\n",
    "# set display options\n",
    "pd.set_option('display.max_columns', None)\n",
    "pd.set_option('display.max_rows', None)\n",
    "pd.set_option('display.max_colwidth', None)"
   ]
  },
  {
   "cell_type": "code",
   "execution_count": null,
   "id": "6a0cd7cf-e191-4e45-809b-867e4a564bac",
   "metadata": {},
   "outputs": [],
   "source": [
    "# How many pages are there?\n",
    "NUM_PAGES = 9                                 # must be there more than 1"
   ]
  },
  {
   "cell_type": "code",
   "execution_count": null,
   "id": "1e79ee15-4c5d-422d-a6a1-445791ab08cc",
   "metadata": {},
   "outputs": [],
   "source": [
    "# Open browser\n",
    "driver = webdriver.Chrome()\n",
    "\n",
    "links = []\n",
    "\n",
    "for page_num in range(0,NUM_PAGES+1):\n",
    "    driver.get(\"https://www.fdicoig.gov/reports-publications/bank-failures?f%5B0%5D=report_sub_type%3A28&page=\"+str(page_num))\n",
    "\n",
    "    # Locate all parent elements (e.g., with class name 'parent-class')\n",
    "    parent_elements = driver.find_elements(By.CLASS_NAME, 'file--application-pdf')\n",
    "    \n",
    "    # Iterate over each parent element\n",
    "    for parent_element in parent_elements:\n",
    "        # Find all child elements with the tag 'a' within the parent element\n",
    "        child_elements = parent_element.find_elements(By.TAG_NAME, 'a')\n",
    "        \n",
    "        # Iterate over the child elements and get their href attribute values\n",
    "        href_values = [element.get_attribute('href') for element in child_elements]\n",
    "         \n",
    "        for link in href_values:\n",
    "            links.append(link)\n",
    "            print(\"Appended \" + link)\n",
    "\n",
    "\n",
    "# Open browser\n",
    "driver = webdriver.Chrome()"
   ]
  },
  {
   "cell_type": "code",
   "execution_count": null,
   "id": "84174c52-b67f-429a-b729-e69f755ac8f2",
   "metadata": {},
   "outputs": [],
   "source": [
    "print(\"Number of files to read and download: \" + str(len(links)))"
   ]
  },
  {
   "cell_type": "code",
   "execution_count": null,
   "id": "2efa4656-9bcf-4f1f-bc51-5d48d8a5597d",
   "metadata": {},
   "outputs": [],
   "source": [
    "# Open browser\n",
    "driver = webdriver.Chrome()\n",
    "\n",
    "# Iterate over each pdf's link\n",
    "for link in links:\n",
    "    driver.get(link)\n",
    "\n",
    "    # Extract filename from the URL\n",
    "    path = urlsplit(link).path\n",
    "    filename = os.path.basename(path)\n",
    "    \n",
    "    # Download the PDF\n",
    "    response = requests.get(link)\n",
    "    \n",
    "    # Save the PDF to a file\n",
    "    with open(\"../data/\" + filename, 'wb') as file:\n",
    "        file.write(response.content)\n",
    "    \n",
    "    print(f'Downloaded file saved as: {filename}')\n",
    "\n",
    "# CLose browser\n",
    "driver.quit()"
   ]
  },
  {
   "cell_type": "markdown",
   "id": "9de99b84-c95e-433d-b193-d5286515cef9",
   "metadata": {},
   "source": [
    "## Read the pdf files"
   ]
  },
  {
   "cell_type": "code",
   "execution_count": null,
   "id": "49438406-8ebf-420d-bfac-e42d46a3174b",
   "metadata": {},
   "outputs": [],
   "source": [
    "filenames = []\n",
    "\n",
    "# Iterate over each pdf's link\n",
    "for link in links:\n",
    "\n",
    "    # Extract filename from the URL\n",
    "    path = urlsplit(link).path\n",
    "    filename = os.path.basename(path)\n",
    "    filenames.append(filename)\n",
    "\n",
    "pdf_texts = {}\n",
    "\n",
    "for file_name in filenames:\n",
    "    try:\n",
    "        with open(\"../data/\" + file_name, 'rb') as pdf_file:\n",
    "            reader = PyPDF2.PdfReader(pdf_file)\n",
    "            text = \"\"\n",
    "            for page in reader.pages:\n",
    "                text += page.extract_text()  # Extract text from each page\n",
    "            pdf_texts[file_name] = text\n",
    "    except Exception as e:\n",
    "        pdf_texts[file_name] = f\"Error reading file: {e}\""
   ]
  },
  {
   "cell_type": "code",
   "execution_count": null,
   "id": "192d4ce1-3136-48b3-a291-60b1e6f50fd3",
   "metadata": {},
   "outputs": [],
   "source": [
    "df = pd.DataFrame(pdf_texts.items(), columns=[\"filename\", \"text\"])\n",
    "\n",
    "output_dir = \"../data/\"\n",
    "\n",
    "csv_path = os.path.join(output_dir, \"output.csv\")\n",
    "df.to_csv(csv_path, index=False, quotechar='\"')  # Save with double quotes around entries\n",
    "print(f\"CSV file created at: {csv_path}\")"
   ]
  },
  {
   "cell_type": "code",
   "execution_count": null,
   "id": "0c8f0393-9971-40c9-8e52-38e198460f28",
   "metadata": {},
   "outputs": [],
   "source": [
    "df.tail(2)"
   ]
  }
 ],
 "metadata": {
  "kernelspec": {
   "display_name": "Python 3 (ipykernel)",
   "language": "python",
   "name": "python3"
  },
  "language_info": {
   "codemirror_mode": {
    "name": "ipython",
    "version": 3
   },
   "file_extension": ".py",
   "mimetype": "text/x-python",
   "name": "python",
   "nbconvert_exporter": "python",
   "pygments_lexer": "ipython3",
   "version": "3.12.4"
  }
 },
 "nbformat": 4,
 "nbformat_minor": 5
}
