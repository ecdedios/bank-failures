{
 "cells": [
  {
   "cell_type": "code",
   "execution_count": null,
   "id": "f50c4665-c2e1-4aec-a211-4374a6183d78",
   "metadata": {},
   "outputs": [],
   "source": [
    "import os\n",
    "import fitz  # PyMuPDF\n",
    "import spacy\n",
    "import pandas as pd"
   ]
  },
  {
   "cell_type": "code",
   "execution_count": null,
   "id": "e36015d8-de1b-4d54-828b-a3003a578180",
   "metadata": {},
   "outputs": [],
   "source": [
    "# to print out all the outputs\n",
    "from IPython.core.interactiveshell import InteractiveShell\n",
    "InteractiveShell.ast_node_interactivity = \"all\"\n",
    "\n",
    "# set display options\n",
    "pd.set_option('display.max_columns', None)\n",
    "pd.set_option('display.max_rows', None)\n",
    "pd.set_option('display.max_colwidth', None)"
   ]
  },
  {
   "cell_type": "code",
   "execution_count": null,
   "id": "c595e2f0-4abb-48fb-8aa9-f8144be4dff6",
   "metadata": {},
   "outputs": [],
   "source": [
    "# Initialize spaCy\n",
    "nlp = spacy.load(\"en_core_web_sm\")\n",
    "\n",
    "def summarize_text(text, max_length=500):\n",
    "    \"\"\"\n",
    "    Summarizes text using spaCy. Limits to 'max_length' tokens.\n",
    "    \"\"\"\n",
    "    doc = nlp(text)\n",
    "    sentences = [sent.text for sent in doc.sents]\n",
    "    return \" \".join(sentences[:max_length])\n",
    "\n",
    "def extract_pdf_metadata_and_summary(pdf_path):\n",
    "    \"\"\"\n",
    "    Extract metadata and text summary from a PDF.\n",
    "    \"\"\"\n",
    "    try:\n",
    "        pdf_document = fitz.open(pdf_path)\n",
    "        metadata = pdf_document.metadata\n",
    "        text = \"\"\n",
    "        \n",
    "        # Extract text from each page\n",
    "        for page in pdf_document:\n",
    "            text += page.get_text()\n",
    "\n",
    "        # Summarize text\n",
    "        summary = summarize_text(text)\n",
    "\n",
    "        pdf_document.close()\n",
    "        \n",
    "        return {\n",
    "            \"File Name\": os.path.basename(pdf_path),\n",
    "            \"Metadata\": metadata,\n",
    "            \"Summary\": summary\n",
    "        }\n",
    "    except Exception as e:\n",
    "        return {\n",
    "            \"File Name\": os.path.basename(pdf_path),\n",
    "            \"Metadata\": None,\n",
    "            \"Summary\": f\"Error: {str(e)}\"\n",
    "        }\n",
    "\n",
    "def process_pdfs_in_folder(folder_path):\n",
    "    \"\"\"\n",
    "    Reads all PDFs in a folder and creates a DataFrame of metadata and summaries.\n",
    "    \"\"\"\n",
    "    data = []\n",
    "    for file in os.listdir(folder_path):\n",
    "        if file.lower().endswith(\".pdf\"):\n",
    "            pdf_path = os.path.join(folder_path, file)\n",
    "            result = extract_pdf_metadata_and_summary(pdf_path)\n",
    "            data.append(result)\n",
    "    \n",
    "    # Convert list of dicts to DataFrame\n",
    "    return pd.DataFrame(data)"
   ]
  },
  {
   "cell_type": "code",
   "execution_count": null,
   "id": "1bcdddb4-2557-4c68-891a-b136995eb406",
   "metadata": {},
   "outputs": [],
   "source": [
    "# Folder containing PDFs\n",
    "folder_path = \"../data\"\n",
    "\n",
    "# Process PDFs and create DataFrame\n",
    "df = process_pdfs_in_folder(folder_path)\n",
    "\n",
    "# Save to CSV for analysis if needed\n",
    "df.to_csv(\"../data/pdf_metadata_and_summaries.csv\", index=False)\n",
    "\n",
    "# Display DataFrame\n",
    "df.head(1)"
   ]
  },
  {
   "cell_type": "code",
   "execution_count": null,
   "id": "ccad34c1-a7d3-4ee5-91ec-d34497ee59ab",
   "metadata": {},
   "outputs": [],
   "source": [
    "df.shape"
   ]
  }
 ],
 "metadata": {
  "kernelspec": {
   "display_name": "Python 3 (ipykernel)",
   "language": "python",
   "name": "python3"
  },
  "language_info": {
   "codemirror_mode": {
    "name": "ipython",
    "version": 3
   },
   "file_extension": ".py",
   "mimetype": "text/x-python",
   "name": "python",
   "nbconvert_exporter": "python",
   "pygments_lexer": "ipython3",
   "version": "3.12.4"
  }
 },
 "nbformat": 4,
 "nbformat_minor": 5
}
