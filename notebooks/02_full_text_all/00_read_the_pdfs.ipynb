{
 "cells": [
  {
   "cell_type": "code",
   "execution_count": 1,
   "id": "2deb2553-7a20-44ba-b00d-bded449c47b5",
   "metadata": {},
   "outputs": [
    {
     "name": "stdout",
     "output_type": "stream",
     "text": [
      "Combined PDF contents saved to ../../data/txt/pdf_contents.txt\n"
     ]
    }
   ],
   "source": [
    "import fitz  # PyMuPDF\n",
    "import os\n",
    "import glob\n",
    "\n",
    "# Define the directories\n",
    "pdf_dir = \"../../data/pdf/\"\n",
    "txt_path = \"../../data/txt/pdf_contents.txt\"\n",
    "\n",
    "# Create output directory if it doesn't exist\n",
    "os.makedirs(os.path.dirname(txt_path), exist_ok=True)\n",
    "\n",
    "# Get a list of all PDF files in the directory\n",
    "pdf_files = glob.glob(os.path.join(pdf_dir, \"*.pdf\"))\n",
    "\n",
    "# Initialize a variable to hold the combined content\n",
    "combined_content = \"\"\n",
    "\n",
    "# Loop through all PDF files\n",
    "for pdf_file in pdf_files:\n",
    "    # Open the PDF document\n",
    "    pdf_document = fitz.open(pdf_file)\n",
    "    \n",
    "    # Extract text from each page of the PDF\n",
    "    content = \"\"\n",
    "    for page_number in range(pdf_document.page_count):\n",
    "        page = pdf_document[page_number]\n",
    "        content += page.get_text()\n",
    "    \n",
    "    # Close the PDF document\n",
    "    pdf_document.close()\n",
    "    \n",
    "    # Add a header for each PDF (optional)\n",
    "    combined_content += f\"--- Contents of {os.path.basename(pdf_file)} ---\\n\"\n",
    "    combined_content += content.strip() + \"\\n\\n\"\n",
    "\n",
    "# Write the combined content to the text file\n",
    "with open(txt_path, \"w\", encoding=\"utf-8\") as txt_file:\n",
    "    txt_file.write(combined_content)\n",
    "\n",
    "print(f\"Combined PDF contents saved to {txt_path}\")"
   ]
  }
 ],
 "metadata": {
  "kernelspec": {
   "display_name": "Python 3 (ipykernel)",
   "language": "python",
   "name": "python3"
  },
  "language_info": {
   "codemirror_mode": {
    "name": "ipython",
    "version": 3
   },
   "file_extension": ".py",
   "mimetype": "text/x-python",
   "name": "python",
   "nbconvert_exporter": "python",
   "pygments_lexer": "ipython3",
   "version": "3.12.4"
  }
 },
 "nbformat": 4,
 "nbformat_minor": 5
}
